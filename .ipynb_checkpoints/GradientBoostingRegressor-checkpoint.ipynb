{
 "cells": [
  {
   "cell_type": "code",
   "execution_count": 8,
   "metadata": {},
   "outputs": [],
   "source": [
    "import csv\n",
    "import numpy as np\n",
    "from sklearn.ensemble import GradientBoostingRegressor\n",
    "from sklearn.metrics import roc_auc_score\n",
    "from sklearn.model_selection import train_test_split\n",
    "from sklearn.linear_model import LogisticRegression\n",
    "from sklearn.ensemble import RandomForestRegressor\n",
    "from sklearn.model_selection import GridSearchCV"
   ]
  },
  {
   "cell_type": "code",
   "execution_count": 9,
   "metadata": {},
   "outputs": [],
   "source": [
    "def load_data(filename):\n",
    "    return np.loadtxt(open(filename), delimiter=',', skiprows=1)"
   ]
  },
  {
   "cell_type": "code",
   "execution_count": 10,
   "metadata": {},
   "outputs": [],
   "source": [
    "# Load training data\n",
    "data = load_data('train_2008.csv')\n",
    "X = data[:, 1:-1]\n",
    "y = data[:, -1]"
   ]
  },
  {
   "cell_type": "code",
   "execution_count": 11,
   "metadata": {},
   "outputs": [],
   "source": [
    "N = len(y) #64667\n",
    "D = len(X[0]) #381\n",
    "\n",
    "# Split to train / test (validation) data\n",
    "X_train, X_test, y_train, y_test = train_test_split(X, y, test_size=0.3)"
   ]
  },
  {
   "cell_type": "code",
   "execution_count": 12,
   "metadata": {},
   "outputs": [],
   "source": [
    "X_sample, y_sample = X_train[:1000], y_train[:1000]"
   ]
  },
  {
   "cell_type": "code",
   "execution_count": 13,
   "metadata": {},
   "outputs": [],
   "source": [
    "# Load real test data\n",
    "test_data = load_data('test_2008.csv')\n",
    "X_test_real = test_data[:, 1:]"
   ]
  },
  {
   "cell_type": "code",
   "execution_count": 37,
   "metadata": {},
   "outputs": [],
   "source": [
    "#Gradient Boosting \n",
    "gbr = GradientBoostingRegressor(max_depth = 4, n_estimators = 200)\n",
    "gbr.fit(X_train, y_train)\n",
    "y_score_gbr = gbr.predict(X_test)"
   ]
  },
  {
   "cell_type": "code",
   "execution_count": 72,
   "metadata": {},
   "outputs": [
    {
     "data": {
      "text/plain": [
       "0.7830223461753073"
      ]
     },
     "execution_count": 72,
     "metadata": {},
     "output_type": "execute_result"
    }
   ],
   "source": [
    "roc_auc_score(y_test, y_score_gbr)"
   ]
  },
  {
   "cell_type": "code",
   "execution_count": 18,
   "metadata": {},
   "outputs": [
    {
     "name": "stderr",
     "output_type": "stream",
     "text": [
      "/anaconda3/envs/myenvir/lib/python3.6/site-packages/sklearn/linear_model/logistic.py:433: FutureWarning: Default solver will be changed to 'lbfgs' in 0.22. Specify a solver to silence this warning.\n",
      "  FutureWarning)\n"
     ]
    }
   ],
   "source": [
    "# Logistic Regression\n",
    "lgr = LogisticRegression(C = 0.1, penalty = 'l1')\n",
    "lgr.fit(X_train, y_train)\n",
    "pred_prob = lgr.predict_proba(X_test)\n",
    "y_scores_lgr = pred_prob[:,1]"
   ]
  },
  {
   "cell_type": "code",
   "execution_count": 19,
   "metadata": {},
   "outputs": [],
   "source": [
    "# Random Forest Regression\n",
    "regr = RandomForestRegressor(n_estimators = 100, max_features = 26)\n",
    "regr.fit(X_train, y_train)\n",
    "y_score_regr = regr.predict(X_test)"
   ]
  },
  {
   "cell_type": "code",
   "execution_count": 21,
   "metadata": {},
   "outputs": [],
   "source": [
    "def scale_scores(y_score):\n",
    "    max_score, min_score = max(y_score), min(y_score)\n",
    "    min_capped = max_score - (max_score - y_score) * (max_score) / (max_score - min_score)\n",
    "    return min_capped / max_score"
   ]
  },
  {
   "cell_type": "code",
   "execution_count": 75,
   "metadata": {},
   "outputs": [
    {
     "data": {
      "text/plain": [
       "0.7856800300775839"
      ]
     },
     "execution_count": 75,
     "metadata": {},
     "output_type": "execute_result"
    }
   ],
   "source": [
    "# average of the three\n",
    "y_test_scores = 0.70*y_score_gbr + 0.05*y_scores_lgr + 0.25*y_score_regr\n",
    "y_test_scores = scale_scores(y_test_scores)\n",
    "roc_auc_score(y_test, y_test_scores)"
   ]
  },
  {
   "cell_type": "markdown",
   "metadata": {},
   "source": [
    "gbr = GradientBoostingRegressor()\n",
    "gbr.fit(X, y)\n",
    "\n",
    "test_data = load_data('test_2008.csv')\n",
    "X_test_real = test_data[:, 1:]\n",
    "\n",
    "y_test_scores = gbr.predict(X_test_real)"
   ]
  },
  {
   "cell_type": "code",
   "execution_count": 20,
   "metadata": {},
   "outputs": [],
   "source": [
    "y_test_scores = y_test_scores.clip(min=0)"
   ]
  },
  {
   "cell_type": "code",
   "execution_count": 70,
   "metadata": {},
   "outputs": [],
   "source": [
    "with open ('sub2.csv', 'w') as writeFile:\n",
    "    writer = csv.writer(writeFile)\n",
    "    writer.writerow(['id', 'target'])\n",
    "    for i in range(0, 16000):\n",
    "        writer.writerow([i, y_test_scores[i]])"
   ]
  },
  {
   "cell_type": "code",
   "execution_count": 10,
   "metadata": {},
   "outputs": [
    {
     "name": "stdout",
     "output_type": "stream",
     "text": [
      "0.7396674380269395\n",
      "{'learning_rate': 0.02, 'max_depth': 3, 'max_features': None, 'min_samples_leaf': 3, 'n_estimators': 200}\n"
     ]
    }
   ],
   "source": [
    "# Gradient Boosting Regressor with Grid Search\n",
    "gbr = GradientBoostingRegressor()\n",
    "\n",
    "param_grid={'n_estimators':[100,200,500], \n",
    "            'learning_rate': [0.1,0.05,0.02],\n",
    "            'max_depth':[3,4,5,6], \n",
    "            'min_samples_leaf':[1,2,3], \n",
    "            'max_features':[None,1.0] } \n",
    "\n",
    "gbr = GridSearchCV(estimator=gbr, cv=5, param_grid=param_grid, \n",
    "    n_jobs=4)\n",
    "\n",
    "gbr.fit(X, y)\n",
    "y_score_gbr = gbr.predict(X_test)\n",
    "\n",
    "print(roc_auc_score(y_test, y_score_gbr))\n",
    "\n",
    "print(gbr.best_params_)"
   ]
  },
  {
   "cell_type": "code",
   "execution_count": 14,
   "metadata": {},
   "outputs": [
    {
     "name": "stdout",
     "output_type": "stream",
     "text": [
      "0.7685283576024072\n"
     ]
    }
   ],
   "source": [
    "gbr = GradientBoostingRegressor(max_depth = 5)\n",
    "gbr.fit(X_train, y_train)\n",
    "y_score_gbr = gbr.predict(X_test)\n",
    "print(roc_auc_score(y_test, y_score_gbr))"
   ]
  },
  {
   "cell_type": "code",
   "execution_count": null,
   "metadata": {},
   "outputs": [],
   "source": []
  }
 ],
 "metadata": {
  "kernelspec": {
   "display_name": "Python 3",
   "language": "python",
   "name": "python3"
  },
  "language_info": {
   "codemirror_mode": {
    "name": "ipython",
    "version": 3
   },
   "file_extension": ".py",
   "mimetype": "text/x-python",
   "name": "python",
   "nbconvert_exporter": "python",
   "pygments_lexer": "ipython3",
   "version": "3.6.8"
  }
 },
 "nbformat": 4,
 "nbformat_minor": 2
}
