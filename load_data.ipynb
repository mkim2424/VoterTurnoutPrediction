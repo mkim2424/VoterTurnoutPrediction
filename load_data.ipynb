{
 "cells": [
  {
   "cell_type": "code",
   "execution_count": 4,
   "metadata": {},
   "outputs": [],
   "source": [
    "import numpy as np"
   ]
  },
  {
   "cell_type": "code",
   "execution_count": 15,
   "metadata": {},
   "outputs": [],
   "source": [
    "data = np.loadtxt(open(\"train_2008.csv\", \"rb\"), delimiter=\",\", skiprows=1)"
   ]
  },
  {
   "cell_type": "code",
   "execution_count": 17,
   "metadata": {},
   "outputs": [
    {
     "name": "stdout",
     "output_type": "stream",
     "text": [
      "[[1.100e+01 2.008e+03 1.000e+00 ... 0.000e+00 0.000e+00 0.000e+00]\n",
      " [1.100e+01 2.008e+03 1.000e+00 ... 0.000e+00 0.000e+00 0.000e+00]\n",
      " [1.100e+01 2.008e+03 1.000e+00 ... 0.000e+00 0.000e+00 0.000e+00]\n",
      " ...\n",
      " [1.100e+01 2.008e+03 1.000e+00 ... 0.000e+00 0.000e+00 0.000e+00]\n",
      " [1.100e+01 2.008e+03 1.000e+00 ... 0.000e+00 0.000e+00 0.000e+00]\n",
      " [1.100e+01 2.008e+03 1.000e+00 ... 0.000e+00 0.000e+00 0.000e+00]]\n",
      "[0. 0. 0. ... 0. 0. 0.]\n"
     ]
    }
   ],
   "source": [
    "X = data[:, 1:-1]\n",
    "y = data[:, -1]"
   ]
  },
  {
   "cell_type": "code",
   "execution_count": 22,
   "metadata": {},
   "outputs": [],
   "source": [
    "N = len(y) #381\n",
    "D = len(X[0]) #64667\n",
    "train_size = 50000\n",
    "train_X = X[:50000]\n",
    "test_X = X[50000:]\n",
    "train_y = y[:50000]\n",
    "test_y = y[50000:]"
   ]
  },
  {
   "cell_type": "code",
   "execution_count": null,
   "metadata": {},
   "outputs": [],
   "source": []
  }
 ],
 "metadata": {
  "kernelspec": {
   "display_name": "Python 3",
   "language": "python",
   "name": "python3"
  },
  "language_info": {
   "codemirror_mode": {
    "name": "ipython",
    "version": 3
   },
   "file_extension": ".py",
   "mimetype": "text/x-python",
   "name": "python",
   "nbconvert_exporter": "python",
   "pygments_lexer": "ipython3",
   "version": "3.6.8"
  }
 },
 "nbformat": 4,
 "nbformat_minor": 2
}
